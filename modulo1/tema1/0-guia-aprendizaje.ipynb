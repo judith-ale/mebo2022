{
 "cells": [
  {
   "cell_type": "markdown",
   "metadata": {},
   "source": [
    "___\n",
    "<img style=\"float: right; margin: 0px 0px 15px 15px;\" src=\"https://upload.wikimedia.org/wikipedia/commons/1/18/Bayes%27_Theorem_MMB_01.jpg\" width=\"500px\" height=\"300px\" />\n",
    "\n",
    "\n",
    "# <font color= #8A0829> Métodos Estadísticos Bayesianos.</font>\n",
    "#### <font color= #2E9AFE>  `Martes y Jueves de 18:00 a 20:00 hrs`</font>\n",
    "- <Strong> Esteban Jiménez Rodríguez </Strong>\n",
    "- <Strong> Año </Strong>: 2022\n",
    "- <Strong> Copyright: </Strong> MIT, excepto donde se indique lo contrario.\n",
    "\n",
    "- <Strong> Email: </Strong>  <font color=\"blue\"> `esjimenezro@iteso.mx` </font>\n",
    "___"
   ]
  },
  {
   "cell_type": "markdown",
   "metadata": {},
   "source": [
    "### `Presentación mía`\n",
    "___"
   ]
  },
  {
   "cell_type": "markdown",
   "metadata": {},
   "source": [
    "### `Presentación de ustedes`\n",
    "___"
   ]
  },
  {
   "cell_type": "markdown",
   "metadata": {},
   "source": [
    "### `Algunas reglas de juego`\n",
    "\n",
    "[Normas mínimas disciplinarias](https://www.dropbox.com/s/sbez0e0rv34na14/NORMAS_MINIMAS_DISCIPLINARIAS.pdf?dl=0)\n",
    "\n",
    "- Todas las entregas deben hacerse através de los espacios provistos en canvas, a menos que se especifique lo contrario.\n",
    "- No se recibirán entregas por ningún otro medio. Sin excepción.\n",
    "___"
   ]
  },
  {
   "cell_type": "markdown",
   "metadata": {},
   "source": [
    "### `Horario de asesoría`\n",
    "\n",
    "Martes de 20:00 - 21:00.\n",
    "\n",
    "Disponibilidad:\n",
    "- Lun-Mie: 19:00-20:00\n",
    "- Mar-Jue: 20:00-21:00\n",
    "- Vie: 16:00\n",
    "___"
   ]
  },
  {
   "cell_type": "markdown",
   "metadata": {},
   "source": [
    "### `Descripción de la asignatura`\n"
   ]
  },
  {
   "cell_type": "markdown",
   "metadata": {},
   "source": [
    "#### `OBJETIVO GENERAL `\n"
   ]
  },
  {
   "cell_type": "markdown",
   "metadata": {},
   "source": [
    "`Módulo 1.` **Teorema de Bayes e inferencia Bayesiana**\n",
    "\n",
    "> Tema 1. Presentación del curso.\n",
    "  - Guía de aprendizaje, herramientas computacionales y repositorio de contenidos del curso.\n",
    "\n",
    "> Tema 2. Recorderis de probabilidad.\n",
    "  - Espacio de probabilidad, probabilidad conjunta, marginal y condicional, independencia, regla de la cadena y regla de Bayes.\n",
    "\n",
    "> Tema 3. Estimadores de máxima verosimilitud: problema de overfitting.\n",
    "  - Modelos probabilísticos e inferencia.\n",
    "  - Estimadores de máxima verosimilitud.\n",
    "  - Ajuste de curvas desde una perspectiva probabilística.\n",
    "\n",
    "> Tema 4. Enfoque Bayesiano: regularización y distribuciones previas conjugadas.\n",
    "  - Distribución previa como regularizador.\n",
    "  - Enfoque Bayesiano vs. enfoque frecuentista.\n",
    "  - Distribuciones conjugadas y cálculo analítico de la distribución posterior.\n",
    "  \n",
    "> Tema 5. Aplicación: regresión Bayesiana.\n",
    "  - Modelado probabilístico de parámetros en la regresión lineal."
   ]
  },
  {
   "cell_type": "markdown",
   "metadata": {},
   "source": [
    "`Módulo 2.` **Variables latentes, Algoritmo de maximización de la esperanza e inferencia aproximada**\n",
    "\n",
    "> Tema 6. Modelos con variables latentes - Repaso de algoritmo K-Means.\n",
    "  - ¿Qué es una variable latente?, ¿Para qué incluir variables latentes?\n",
    "  - Hard clustering: repaso de algoritmo K-Means.\n",
    "  - Soft clustering: clustering probabilístico, GMM (modelo de mezclas Gaussianas), entrenamiento de GMM.\n",
    "  \n",
    "> Tema 7. Algoritmo de maximización de la esperanza.\n",
    "  - Divergencia de Küllback-Leibler, desigualdad de Jensen.\n",
    "  - Algoritmo de maximización de la esperanza.\n",
    "  - Explicando K-Means y PCA desde una perspectiva probabilística.\n",
    "  \n",
    "> Tema 8. Inferencia variacional.\n",
    "  - ¿Por qué inferencia aproximada?\n",
    "  - Aproximación de campo media.\n",
    "  - Maximización de la esperanza e inferencia variacional.\n",
    "  \n",
    "> Tema 9. Asignación de Dirichlet latente.\n",
    "  - Modelamiento de tópicos.\n",
    "  - Distribución de Dirichlet.\n",
    "  - Asignación de Dirichlet latente (LDA).\n",
    "  - Extensiones de LDA."
   ]
  },
  {
   "cell_type": "markdown",
   "metadata": {},
   "source": [
    "`Módulo 3.` **Markov Chain Montecarlo (MCMC)**\n",
    "\n",
    "> Tema 10. Estimación Montecarlo y cadenas de Markov.\n",
    "  - Muestreo de distribuciones univariadas.\n",
    "  - Estimación Montecarlo.\n",
    "  - Cadenas de Markov.\n",
    "  \n",
    "> Tema 11. Muestreo de Gibbs y algoritmo de Metropolis-Hastings.\n",
    "  - Muestreo de Gibbs. Ejemplo.\n",
    "  - Algoritmo de Metropolis-Hastings. Ejemplo.\n",
    "  - MCMC para LDA."
   ]
  },
  {
   "cell_type": "markdown",
   "metadata": {},
   "source": [
    "`Módulo 4.` **Procesos Gaussianos y Optimización Bayesiana**\n",
    "\n",
    "> Tema 12. Procesos Gaussianos.\n",
    "  - Métodos no paramétricos.\n",
    "  - Procesos Gaussianos.\n",
    "  \n",
    "> Tema 13. Optimización Bayesiana.\n",
    "  - Optimización Bayesiana.\n",
    "  - Aplicaciones.\n"
   ]
  },
  {
   "cell_type": "markdown",
   "metadata": {},
   "source": [
    "### `Evaluación`\n",
    "\n",
    "- Tareas 20%\n",
    "  - La evaluación de cada tarea se divide en dos partes \n",
    "    - Primera entrega     30%\n",
    "    - Segunda entrega     70% \n",
    "    - Si sacan 100 en la primera entrega, no es necesario hacer la segunda entrega.\n",
    "    - Si sacan menos de 100 en la primera entrega, y no realizan las correcciones para la segunda entrega, se calificará como si no se hubiera hecho segunda entrega.\n",
    "    - Si sacan menos de 100 en la primera entrega, y no realizan segunda entrega, se calificará como si no se hubiera hecho segunda entrega.\n",
    "    - Para tener derecho a segunda entrega, deben realizar la primera entrega.\n",
    "- Proyecto (trabajo en equipo) 30%\n",
    "  - Equipos de 2 integrantes mínimo y 3 máximo. *Esto no se negocia*.\n",
    "- Examenes 34% (17% cada uno)\n",
    "- Quices 16%"
   ]
  },
  {
   "cell_type": "markdown",
   "metadata": {},
   "source": [
    "### `Prerrequisitos`\n",
    "\n",
    "1. Probabilidad y estadística.\n",
    "2. Álgebra lineal."
   ]
  },
  {
   "cell_type": "markdown",
   "metadata": {},
   "source": [
    "### `Bibliografía `\n",
    "- Statistical Rethinking: A Bayesian Course with Examples in R and Stan Chapman & Hall/CRC Texts in Statistical Science, Richard McElreath, CRC Press, 2018.\n",
    "- A Student’s Guide to Bayesian Statistics, Ben Lambert, SAGE, 2018.\n",
    "- Bayesian Statistics for Beginners: A Step-by-Step, Approach, Therese M. Donovan, Ruth M. Mickey, Oxford University Press, 2019\n",
    "- Bayesian Statistical Methods Chapman & Hall/CRC Texts in Statistical Science, Brian J. Reich, Sujit K. Ghosh, CRC Press, 2019\n",
    "- Pattern Recognition and Machine Learning, by Christopher M. Bishop.\n",
    "- Bayesian Reasoning and Machine Learning by David Barber."
   ]
  },
  {
   "cell_type": "markdown",
   "metadata": {},
   "source": [
    "<script>\n",
    "  $(document).ready(function(){\n",
    "    $('div.prompt').hide();\n",
    "    $('div.back-to-top').hide();\n",
    "    $('nav#menubar').hide();\n",
    "    $('.breadcrumb').hide();\n",
    "    $('.hidden-print').hide();\n",
    "  });\n",
    "</script>\n",
    "\n",
    "<footer id=\"attribution\" style=\"float:right; color:#808080; background:#fff;\">\n",
    "Created with Jupyter by Esteban Jiménez Rodríguez.\n",
    "</footer>"
   ]
  }
 ],
 "metadata": {
  "kernelspec": {
   "display_name": "Python 3",
   "language": "python",
   "name": "python3"
  },
  "language_info": {
   "codemirror_mode": {
    "name": "ipython",
    "version": 3
   },
   "file_extension": ".py",
   "mimetype": "text/x-python",
   "name": "python",
   "nbconvert_exporter": "python",
   "pygments_lexer": "ipython3",
   "version": "3.7.6"
  }
 },
 "nbformat": 4,
 "nbformat_minor": 4
}
