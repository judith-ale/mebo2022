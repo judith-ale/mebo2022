{
 "cells": [
  {
   "cell_type": "markdown",
   "metadata": {},
   "source": [
    "# Proyecto Final - Métodos Estadísticos Bayesianos\n",
    "\n"
   ]
  },
  {
   "cell_type": "markdown",
   "metadata": {},
   "source": [
    "## 1. Descripción del problema\n",
    "\n",
    "La primera parte del proyecto será describir el problema que están intentando resolver, y cómo los datos para ese problema se obtuvieron.\n",
    "\n",
    "No se debería incluir solo texto, sino también diagramas, imágenes y cualquier tipo de apoyo visual para soportar la descripción.\n",
    "\n",
    "Estructura sugerida:\n",
    "- Título\n",
    "- Motivación / Introducción\n",
    "- Objetivos:\n",
    "  - Objetivo general\n",
    "  - Objetivos específicos"
   ]
  },
  {
   "cell_type": "markdown",
   "metadata": {},
   "source": [
    "## 2. Modelo que representa el problema\n",
    "\n",
    "Una vez descrito el problema, debes proponer un modelo de la situación. Este modelo puede ser:\n",
    "\n",
    "- Una red Bayesiana.\n",
    "- Una estructura genérica de las que hemos visto en clase:\n",
    "  - Regresor lineal.\n",
    "  - Modelo de mezclas Gaussianas (K-Means).\n",
    "  - Modelo de tópicos con LDA.\n",
    "  \n",
    "Escribir claramente cuáles son las limitaciones de su modelo."
   ]
  },
  {
   "cell_type": "markdown",
   "metadata": {},
   "source": [
    "## 3. Evaluación del modelo\n",
    "\n",
    "El problema como tal puede tener una métrica o KPI inherente que determine el \"performance\" del modelo. Si no es así, ustedes deben proponer una métrica para evaluar su modelo y justificar porqué esa métrica es una buena elección."
   ]
  },
  {
   "cell_type": "markdown",
   "metadata": {},
   "source": [
    "<script>\n",
    "  $(document).ready(function(){\n",
    "    $('div.prompt').hide();\n",
    "    $('div.back-to-top').hide();\n",
    "    $('nav#menubar').hide();\n",
    "    $('.breadcrumb').hide();\n",
    "    $('.hidden-print').hide();\n",
    "  });\n",
    "</script>\n",
    "\n",
    "<footer id=\"attribution\" style=\"float:right; color:#808080; background:#fff;\">\n",
    "Created with Jupyter by Esteban Jiménez Rodríguez.\n",
    "</footer>"
   ]
  }
 ],
 "metadata": {
  "kernelspec": {
   "display_name": "Python 3 (ipykernel)",
   "language": "python",
   "name": "python3"
  },
  "language_info": {
   "codemirror_mode": {
    "name": "ipython",
    "version": 3
   },
   "file_extension": ".py",
   "mimetype": "text/x-python",
   "name": "python",
   "nbconvert_exporter": "python",
   "pygments_lexer": "ipython3",
   "version": "3.9.13"
  }
 },
 "nbformat": 4,
 "nbformat_minor": 4
}
