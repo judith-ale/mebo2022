{
 "cells": [
  {
   "cell_type": "markdown",
   "metadata": {},
   "source": [
    "# Algoritmo de maximización de la esperanza para el modelo de mezclas Gaussianas\n",
    "\n",
    "<img style=\"float: right; margin: 0px 0px 15px 15px;\" src=\"https://upload.wikimedia.org/wikipedia/commons/thumb/1/1f/Gauss-sum.svg/800px-Gauss-sum.svg.png\" width=\"500px\" height=\"300px\" />\n",
    "\n",
    "\n",
    "> Ya derivamos la forma general del algoritmo de maximización de la esperanza, e hicimos un ejemplo sencillo. Es hora de ver como se aplica este algoritmo a ejemplos más interesantes.\n",
    "\n",
    "> Comenzaremos por aplicarlo al problema de mezclas Gaussianas.\n",
    "\n",
    "> **Objetivos:**\n",
    "> - Aplicar el algoritmo de maximización de la esperanza al modelo de mezclas Gaussianas.\n",
    "\n",
    "> **Referencias:**\n",
    "> - Bayesian Methods for Machine Learning course, HSE University, Coursera."
   ]
  },
  {
   "cell_type": "markdown",
   "metadata": {},
   "source": [
    "## 1. Recordamos el problema"
   ]
  },
  {
   "cell_type": "code",
   "execution_count": null,
   "metadata": {},
   "outputs": [],
   "source": [
    "# Importamos función para generar datos\n",
    "from bank_customer_data import generate_bank_customer_data\n",
    "# Importamos scipy.stats.multivariate_normal\n",
    "from scipy.stats import multivariate_normal\n",
    "# Importamos pyplot\n",
    "from matplotlib import pyplot as plt\n",
    "# Importamos numpy\n",
    "import numpy as np"
   ]
  },
  {
   "cell_type": "code",
   "execution_count": null,
   "metadata": {},
   "outputs": [],
   "source": [
    "# Generamos datos\n",
    "data = generate_bank_customer_data()\n",
    "data.head()"
   ]
  },
  {
   "cell_type": "code",
   "execution_count": null,
   "metadata": {},
   "outputs": [],
   "source": [
    "# Ajustamos parámetros\n",
    "mu1 = data.loc[data[\"labels\"] == 0, [\"income\", \"debt\"]].mean()\n",
    "mu2 = data.loc[data[\"labels\"] == 1, [\"income\", \"debt\"]].mean()\n",
    "mu3 = data.loc[data[\"labels\"] == 2, [\"income\", \"debt\"]].mean()\n",
    "cov1 = data.loc[data[\"labels\"] == 0, [\"income\", \"debt\"]].cov()\n",
    "cov2 = data.loc[data[\"labels\"] == 1, [\"income\", \"debt\"]].cov()\n",
    "cov3 = data.loc[data[\"labels\"] == 2, [\"income\", \"debt\"]].cov()\n",
    "# Definimos VA\n",
    "X1 = multivariate_normal(mean=mu1, cov=cov1)\n",
    "X2 = multivariate_normal(mean=mu2, cov=cov2)\n",
    "X3 = multivariate_normal(mean=mu3, cov=cov3)"
   ]
  },
  {
   "cell_type": "code",
   "execution_count": null,
   "metadata": {},
   "outputs": [],
   "source": [
    "# Datos\n",
    "plt.scatter(data[\"income\"], data[\"debt\"], c=\"gray\", alpha=0.6)\n",
    "\n",
    "# Gaussiana 1\n",
    "x = np.linspace(0, 6, 100)\n",
    "y = np.linspace(0, 5, 100)\n",
    "x, y = np.meshgrid(x, y)\n",
    "z = X1.pdf(np.dstack([x, y]))\n",
    "plt.contour(x, y, z)\n",
    "\n",
    "# Gaussiana 2\n",
    "x = np.linspace(0, 4, 100)\n",
    "y = np.linspace(4, 9, 100)\n",
    "x, y = np.meshgrid(x, y)\n",
    "z = X2.pdf(np.dstack([x, y]))\n",
    "plt.contour(x, y, z)\n",
    "\n",
    "# Gaussiana 3\n",
    "x = np.linspace(3, 8, 100)\n",
    "y = np.linspace(2, 8, 100)\n",
    "x, y = np.meshgrid(x, y)\n",
    "z = X3.pdf(np.dstack([x, y]))\n",
    "plt.contour(x, y, z)\n",
    "\n",
    "plt.xlabel(\"Ingresos mensuales (x100k MXN)\")\n",
    "plt.ylabel(\"Deuda (x100k MXN)\")"
   ]
  },
  {
   "cell_type": "markdown",
   "metadata": {},
   "source": [
    "Recordamos que en un **modelo de mezclas Gaussianas** tenemos un conjunto de puntos el cual queremos modelar como una mezcla de Gaussianas:\n",
    "\n",
    "$$\n",
    "p(x | \\theta) = \\sum_{c=1}^{k} \\pi_c \\mathcal{N}(x | \\mu_c, \\Sigma_c).\n",
    "$$\n",
    "\n",
    "Los parámetros de este modelo son:\n",
    "\n",
    "$$\n",
    "\\theta = \\left\\{(\\pi_c, \\mu_c, \\Sigma_c): c=1,\\dots, k \\right\\}.\n",
    "$$"
   ]
  },
  {
   "cell_type": "markdown",
   "metadata": {},
   "source": [
    "Desde una perspectiva probabilística, esto lo podemos modelar como un modelo de variable latente:\n",
    "\n",
    "![latent](figures/latent_model.png)\n",
    "\n",
    "con las siguientes distribuciones:\n",
    "\n",
    "- $p(t_i=c | \\theta) = \\pi_c$\n",
    "\n",
    "- $p(x_i | t_i=c, \\theta) = \\mathcal{N}(x_i | \\mu_c, \\Sigma_c)$"
   ]
  },
  {
   "cell_type": "markdown",
   "metadata": {},
   "source": [
    "## 2. Conexión con algoritmo de maximización de la esperanza\n",
    "\n",
    "Obtengamos las expresiones detalladas en los pasos del algoritmo de maximización de la esperanza."
   ]
  },
  {
   "cell_type": "markdown",
   "metadata": {},
   "source": [
    "### E-step\n",
    "\n",
    "Para cada punto, debemos calcular la distribución posterior:\n",
    "\n",
    "$$\n",
    "q(t_i) = p(t_i|x_i, \\theta).\n",
    "$$"
   ]
  },
  {
   "cell_type": "markdown",
   "metadata": {},
   "source": [
    "En este caso, usando el teorema de Bayes:\n",
    "\n",
    "\\begin{align}\n",
    "p(t_i=c | x_i, \\theta) & = \\frac{p(x_i | t_i=c, \\theta) p(t_i=c | \\theta)}{p(x_i | \\theta)} \\\\\n",
    "                       & = \\frac{\\mathcal{N}(x_i | \\mu_c, \\Sigma_c) \\pi_c}{\\sum_{c=1}^{k} \\pi_c \\mathcal{N}(x | \\mu_c, \\Sigma_c)}. \\\\\n",
    "\\end{align}"
   ]
  },
  {
   "cell_type": "markdown",
   "metadata": {},
   "source": [
    "### M-step\n",
    "\n",
    "Debemos actualizar los parámetros de modo que maximicen la verosimilitud conjunta:\n",
    "\n",
    "$$\n",
    "\\max_{\\theta} \\sum_{i=1}^{N} \\mathbb{E}_{q(t_i)} \\left[\\log p(x_i, t_i| \\theta)\\right]\n",
    "$$"
   ]
  },
  {
   "cell_type": "markdown",
   "metadata": {},
   "source": [
    "Desarrollemos un poco la función a maximizar:\n",
    "\n",
    "\\begin{align}\n",
    "\\sum_{i=1}^{N} \\mathbb{E}_{q(t_i)} \\left[\\log p(x_i, t_i| \\theta)\\right] \n",
    "& = \\sum_{i=1}^{N} \\sum_{c=1}^{k} q(t_i=c) \\log \\left[p(x_i| t_i=c \\theta) p(t_i=c | \\theta)\\right] \\\\\n",
    "& = \\sum_{i=1}^{N} \\sum_{c=1}^{k} q(t_i=c) \\log \\left[\\mathcal{N}(x_i | \\mu_c, \\Sigma_c) \\pi_c\\right]\n",
    "\\end{align}"
   ]
  },
  {
   "cell_type": "markdown",
   "metadata": {},
   "source": [
    "Para facilitar el entendimiento, resolvamos el caso escalar:\n",
    "\n",
    "\\begin{align}\n",
    "\\sum_{i=1}^{N} \\mathbb{E}_{q(t_i)} \\left[\\log p(x_i, t_i| \\theta)\\right] \n",
    "& = \\sum_{i=1}^{N} \\sum_{c=1}^{k} q(t_i=c) \\log \\left[p(x_i| t_i=c, \\theta) p(t_i=c | \\theta)\\right] \\\\\n",
    "& = \\sum_{i=1}^{N} \\sum_{c=1}^{k} q(t_i=c) \\log \\left[\\mathcal{N}(x_i | \\mu_c, \\sigma_c^2) \\pi_c\\right] \\\\\n",
    "& = \\sum_{i=1}^{N} \\sum_{c=1}^{k} q(t_i=c) \\log \\left[\\frac{\\pi_c}{\\sqrt{2 \\pi \\sigma_c^2}}\\exp\\left\\{-\\frac{(x_i - \\mu_c)^2}{2\\sigma_c^2}\\right\\}\\right] \\\\\n",
    "& = \\sum_{i=1}^{N} \\sum_{c=1}^{k} q(t_i=c) \\left[\\log \\pi_c - \\frac{1}{2}\\log 2 \\pi - \\frac{1}{2}\\log\\sigma_c^2 -\\frac{(x_i - \\mu_c)^2}{2\\sigma_c^2}\\right] := f(\\theta)\\\\\n",
    "\\end{align}"
   ]
  },
  {
   "cell_type": "markdown",
   "metadata": {},
   "source": [
    "Derivamos respecto a $\\mu_c$ e igualamos a cero:\n",
    "\n",
    "\\begin{align}\n",
    "\\frac{\\partial f(\\theta)}{\\partial \\mu_c} = \\sum_{i=1}^{N} q(t_i=c)\\frac{x_i - \\mu_c}{\\sigma_c^2} & = 0 \\\\\n",
    "\\Leftrightarrow \\sum_{i=1}^{N} q(t_i=c)\\left(x_i - \\mu_c\\right) & = 0 \\\\\n",
    "\\Leftrightarrow \\mu_c & = \\frac{\\sum_{i=1}^{N} q(t_i=c)x_i}{\\sum_{i=1}^{N} q(t_i=c)}.\n",
    "\\end{align}"
   ]
  },
  {
   "cell_type": "markdown",
   "metadata": {},
   "source": [
    "Derivamos respecto a $\\sigma_c^2$ e igualamos a cero:\n",
    "\n",
    "\\begin{align}\n",
    "\\frac{\\partial f(\\theta)}{\\partial \\sigma_c^2} = \\sum_{i=1}^{N} q(t_i=c)\\left[- \\frac{1}{2\\sigma_c^2}+\\frac{(x_i - \\mu_c)^2}{2(\\sigma_c^2)^2}\\right] & = 0 \\\\\n",
    "\\Leftrightarrow \\sum_{i=1}^{N} q(t_i=c)\\left[-1+\\frac{(x_i - \\mu_c)^2}{\\sigma_c^2}\\right] & = 0 \\\\\n",
    "\\Leftrightarrow \\sigma_c^2 & = \\frac{\\sum_{i=1}^{N} q(t_i=c)(x_i - \\mu_c)^2}{\\sum_{i=1}^{N} q(t_i=c)}.\n",
    "\\end{align}"
   ]
  },
  {
   "cell_type": "markdown",
   "metadata": {},
   "source": [
    "Para el caso de los parámetros $\\pi_c$, tenemos que tener en cuenta la restricción $\\sum_{c=1}^{k} \\pi_c = 1$. El Lagrangiano es:\n",
    "\n",
    "$$\n",
    "L(\\theta, \\lambda) = f(\\theta) - \\lambda \\left(\\sum_{c=1}^{k} \\pi_c - 1\\right).\n",
    "$$\n",
    "\n",
    "Las derivadas respecto a $pi_c$ y a $\\lambda$, igualadas a cero, resulta en:\n",
    "\n",
    "\\begin{align}\n",
    "\\frac{\\partial L(\\theta, \\lambda)}{\\partial \\pi_c} = \\sum_{i=1}^{N} q(t_i=c) \\frac{1}{\\pi_c} - \\lambda & = 0 \\\\\n",
    "\\Leftrightarrow \\pi_c & = \\frac{\\sum_{i=1}^{N} q(t_i=c)}{\\lambda}.\n",
    "\\end{align}\n",
    "\n",
    "\\begin{align}\n",
    "\\frac{\\partial L(\\theta, \\lambda)}{\\partial \\lambda} = \\sum_{c=1}^{k} \\pi_c - 1 & = 0 \\\\\n",
    "\\Leftrightarrow \\sum_{c=1}^{k} \\frac{\\sum_{i=1}^{N} q(t_i=c)}{\\lambda} - 1 & = 0 \\\\\n",
    "\\Leftrightarrow \\sum_{i=1}^{N} \\underbrace{\\sum_{c=1}^{k} q(t_i=c)}_{1} - \\lambda & = 0 \\\\\n",
    "\\Leftrightarrow \\lambda &= N.\n",
    "\\end{align}\n",
    "\n",
    "Finalmente:\n",
    "\n",
    "$$\n",
    "\\pi_c = \\frac{\\sum_{i=1}^{N} q(t_i=c)}{N}.\n",
    "$$"
   ]
  },
  {
   "cell_type": "markdown",
   "metadata": {},
   "source": [
    "**En resumen:**\n",
    "\n",
    "- $\\mu_c = \\frac{\\sum_{i=1}^{N} q(t_i=c)x_i}{\\sum_{i=1}^{N} q(t_i=c)}$.\n",
    "- $\\sigma_c^2 = \\frac{\\sum_{i=1}^{N} q(t_i=c)(x_i - \\mu_c)^2}{\\sum_{i=1}^{N} q(t_i=c)}$.\n",
    "- $\\pi_c = \\frac{\\sum_{i=1}^{N} q(t_i=c)}{N}$."
   ]
  },
  {
   "cell_type": "markdown",
   "metadata": {},
   "source": [
    "___\n",
    "#### Nota:\n",
    "\n",
    "Acá hemos resuelto el caso escalar para facilitar el entendimiento, sin embargo, también es posible obtener soluciones cerradas en el caso multivariable.\n",
    "\n",
    "En el caso multivariable ($x \\in \\mathbb{R}^n$), la función $f(\\theta)$ es:\n",
    "\n",
    "$$\n",
    "f(\\theta) = \\sum_{i=1}^{N} \\sum_{c=1}^{k} q(t_i=c) \\left[\\log \\pi_c - \\frac{1}{2}\\log (2 \\pi)^n + \\frac{1}{2}\\log \\det(\\Lambda_c) - \\frac{1}{2}(x_i - \\mu_c)^T \\Lambda_c (x_i - \\mu_c)\\right],\n",
    "$$\n",
    "\n",
    "donde $\\Lambda_c = \\Sigma_c^{-1}$.\n",
    "\n",
    "En este caso, es útil saber los siguientes gradientes:\n",
    "\n",
    "1. Forma cuadrática respecto al vector ($y \\in \\mathbb{R}^n$, $Q = Q^T \\in\\mathbb{R}^{n \\times n}$):\n",
    "   $$\n",
    "   \\frac{\\partial y^T Q y}{\\partial y} = 2 Q y.\n",
    "   $$\n",
    "   \n",
    "2. Forma cuadrática respecto a la matriz ($y \\in \\mathbb{R}^n$, $Q = Q^T \\in\\mathbb{R}^{n \\times n}$):\n",
    "   $$\n",
    "   \\frac{\\partial y^T Q y}{\\partial Q} = y y^T.\n",
    "   $$\n",
    "   \n",
    "3. Gradiente del log-det ($Q = Q^T \\in\\mathbb{R}^{n \\times n}$):\n",
    "   $$\n",
    "   \\frac{\\partial \\log \\det (Q)}{\\partial Q} = Q^{-1}.\n",
    "   $$"
   ]
  },
  {
   "cell_type": "markdown",
   "metadata": {},
   "source": [
    "Con lo que se obtienen los siguientes resultados (análogos al caso escalar):\n",
    "\n",
    "$$\n",
    "\\mu_c = \\frac{\\sum_{i=1}^{N} q(t_i=c)x_i}{\\sum_{i=1}^{N} q(t_i=c)},\n",
    "$$\n",
    "\n",
    "$$\n",
    "\\Sigma_c = \\frac{\\sum_{i=1}^{N} q(t_i=c)(x_i - \\mu_c) (x_i - \\mu_c)^T}{\\sum_{i=1}^{N} q(t_i=c)},\n",
    "$$\n",
    "\n",
    "$$\n",
    "\\pi_c = \\frac{\\sum_{i=1}^{N} q(t_i=c)}{N}.\n",
    "$$\n",
    "___"
   ]
  },
  {
   "cell_type": "markdown",
   "metadata": {},
   "source": [
    "## 3. En resumen\n",
    "\n",
    "**Entrenamiento de parámetros para GMM:**\n",
    "\n",
    "1. Inicializar los parámetros:\n",
    "   $$\n",
    "   \\theta^0 = \\left\\{(\\pi_c^0, \\mu_c^0, \\Sigma_c^0): c=1,\\dots, k \\right\\}.\n",
    "   $$\n",
    "   \n",
    "   - $\\pi_c^0$ se puede inicializar con una muestra de la distribución de Dirichlet.\n",
    "   - $\\mu_c^0$ se puede inicializar eligiendo aleatoriamente datos de la muestra para entrenar.\n",
    "   - $\\Sigma_c^0$ se puede inicializar con la matriz identidad, o como $R^T R$ donde $R$ es una matriz de números aleatorios.\n",
    "   \n",
    "2. Repetir hasta la convergencia ($j=0, 1, \\dots$):\n",
    "\n",
    "   - E-step: para todo $c=1,\\dots,k$, para todo $i=1,\\dots,N$,\n",
    "     $$\n",
    "     q^{j+1}(t_i = c) = \\frac{\\mathcal{N}(x_i | \\mu_c^j, \\Sigma_c^j) \\pi_c^j}{\\sum_{c=1}^{k} \\pi_c^j \\mathcal{N}(x | \\mu_c^j, \\Sigma_c^j)}\n",
    "     $$\n",
    "     \n",
    "   - M-step: para todo $c=1,\\dots,k$\n",
    "     $$\n",
    "     \\mu_c^{j+1} = \\frac{\\sum_{i=1}^{N} q^{j+1}(t_i=c)x_i}{\\sum_{i=1}^{N} q^{j+1}(t_i=c)},\n",
    "     $$\n",
    "\n",
    "     $$\n",
    "     \\Sigma_c^{j+1} = \\frac{\\sum_{i=1}^{N} q^{j+1}(t_i=c)(x_i - \\mu_c) (x_i - \\mu_c)^T}{\\sum_{i=1}^{N} q^{j+1}(t_i=c)},\n",
    "     $$\n",
    "\n",
    "     $$\n",
    "     \\pi_c^{j+1} = \\frac{\\sum_{i=1}^{N} q^{j+1}(t_i=c)}{N}.\n",
    "     $$\n",
    "     "
   ]
  },
  {
   "cell_type": "markdown",
   "metadata": {},
   "source": [
    "## 4. Sobre el ejemplo de clientes bancarios"
   ]
  },
  {
   "cell_type": "code",
   "execution_count": 12,
   "metadata": {},
   "outputs": [],
   "source": [
    "# Importamos sklearn.model_selection.train_test_split\n",
    "from sklearn.model_selection import train_test_split\n",
    "# Importamos sklearn.mixture.GaussianMixture\n",
    "from sklearn.mixture import GaussianMixture"
   ]
  },
  {
   "cell_type": "code",
   "execution_count": 13,
   "metadata": {},
   "outputs": [],
   "source": [
    "GaussianMixture?"
   ]
  },
  {
   "cell_type": "code",
   "execution_count": 14,
   "metadata": {},
   "outputs": [
    {
     "data": {
      "text/html": [
       "<div>\n",
       "<style scoped>\n",
       "    .dataframe tbody tr th:only-of-type {\n",
       "        vertical-align: middle;\n",
       "    }\n",
       "\n",
       "    .dataframe tbody tr th {\n",
       "        vertical-align: top;\n",
       "    }\n",
       "\n",
       "    .dataframe thead th {\n",
       "        text-align: right;\n",
       "    }\n",
       "</style>\n",
       "<table border=\"1\" class=\"dataframe\">\n",
       "  <thead>\n",
       "    <tr style=\"text-align: right;\">\n",
       "      <th></th>\n",
       "      <th>income</th>\n",
       "      <th>debt</th>\n",
       "      <th>labels</th>\n",
       "    </tr>\n",
       "  </thead>\n",
       "  <tbody>\n",
       "    <tr>\n",
       "      <th>0</th>\n",
       "      <td>2.544225</td>\n",
       "      <td>3.269618</td>\n",
       "      <td>0.0</td>\n",
       "    </tr>\n",
       "    <tr>\n",
       "      <th>1</th>\n",
       "      <td>1.789144</td>\n",
       "      <td>6.073978</td>\n",
       "      <td>1.0</td>\n",
       "    </tr>\n",
       "    <tr>\n",
       "      <th>2</th>\n",
       "      <td>6.225420</td>\n",
       "      <td>4.597761</td>\n",
       "      <td>2.0</td>\n",
       "    </tr>\n",
       "    <tr>\n",
       "      <th>3</th>\n",
       "      <td>3.199626</td>\n",
       "      <td>5.236709</td>\n",
       "      <td>1.0</td>\n",
       "    </tr>\n",
       "    <tr>\n",
       "      <th>4</th>\n",
       "      <td>2.061981</td>\n",
       "      <td>4.062362</td>\n",
       "      <td>0.0</td>\n",
       "    </tr>\n",
       "    <tr>\n",
       "      <th>...</th>\n",
       "      <td>...</td>\n",
       "      <td>...</td>\n",
       "      <td>...</td>\n",
       "    </tr>\n",
       "    <tr>\n",
       "      <th>395</th>\n",
       "      <td>2.295276</td>\n",
       "      <td>4.690333</td>\n",
       "      <td>1.0</td>\n",
       "    </tr>\n",
       "    <tr>\n",
       "      <th>396</th>\n",
       "      <td>1.798624</td>\n",
       "      <td>7.315169</td>\n",
       "      <td>1.0</td>\n",
       "    </tr>\n",
       "    <tr>\n",
       "      <th>397</th>\n",
       "      <td>3.110386</td>\n",
       "      <td>4.117621</td>\n",
       "      <td>0.0</td>\n",
       "    </tr>\n",
       "    <tr>\n",
       "      <th>398</th>\n",
       "      <td>5.719619</td>\n",
       "      <td>3.738017</td>\n",
       "      <td>2.0</td>\n",
       "    </tr>\n",
       "    <tr>\n",
       "      <th>399</th>\n",
       "      <td>1.129025</td>\n",
       "      <td>2.850004</td>\n",
       "      <td>0.0</td>\n",
       "    </tr>\n",
       "  </tbody>\n",
       "</table>\n",
       "<p>400 rows × 3 columns</p>\n",
       "</div>"
      ],
      "text/plain": [
       "       income      debt  labels\n",
       "0    2.544225  3.269618     0.0\n",
       "1    1.789144  6.073978     1.0\n",
       "2    6.225420  4.597761     2.0\n",
       "3    3.199626  5.236709     1.0\n",
       "4    2.061981  4.062362     0.0\n",
       "..        ...       ...     ...\n",
       "395  2.295276  4.690333     1.0\n",
       "396  1.798624  7.315169     1.0\n",
       "397  3.110386  4.117621     0.0\n",
       "398  5.719619  3.738017     2.0\n",
       "399  1.129025  2.850004     0.0\n",
       "\n",
       "[400 rows x 3 columns]"
      ]
     },
     "execution_count": 14,
     "metadata": {},
     "output_type": "execute_result"
    }
   ],
   "source": [
    "# Datos\n",
    "data"
   ]
  },
  {
   "cell_type": "code",
   "execution_count": 16,
   "metadata": {},
   "outputs": [
    {
     "data": {
      "text/plain": [
       "GaussianMixture(covariance_type='full', init_params='kmeans', max_iter=100,\n",
       "                means_init=None, n_components=3, n_init=10,\n",
       "                precisions_init=None, random_state=None, reg_covar=1e-06,\n",
       "                tol=0.001, verbose=0, verbose_interval=10, warm_start=False,\n",
       "                weights_init=None)"
      ]
     },
     "execution_count": 16,
     "metadata": {},
     "output_type": "execute_result"
    }
   ],
   "source": [
    "# Modelo de mezclas Gaussianas\n",
    "gmm = GaussianMixture(\n",
    "    n_components=3,\n",
    "    n_init=10\n",
    ")\n",
    "# Entrenamiento\n",
    "gmm.fit(data[[\"income\", \"debt\"]])"
   ]
  },
  {
   "cell_type": "code",
   "execution_count": 19,
   "metadata": {},
   "outputs": [],
   "source": [
    "# Parámetros óptimos\n",
    "mu1 = gmm.means_[0]\n",
    "mu2 = gmm.means_[1]\n",
    "mu3 = gmm.means_[2]"
   ]
  },
  {
   "cell_type": "code",
   "execution_count": 20,
   "metadata": {},
   "outputs": [],
   "source": [
    "sigma1 = gmm.covariances_[0]\n",
    "sigma2 = gmm.covariances_[1]\n",
    "sigma3 = gmm.covariances_[2]"
   ]
  },
  {
   "cell_type": "code",
   "execution_count": 21,
   "metadata": {},
   "outputs": [],
   "source": [
    "# Gaussianas ajustadas\n",
    "X1 = multivariate_normal(mean=mu1, cov=sigma1)\n",
    "X2 = multivariate_normal(mean=mu2, cov=sigma2)\n",
    "X3 = multivariate_normal(mean=mu3, cov=sigma3)"
   ]
  },
  {
   "cell_type": "code",
   "execution_count": 22,
   "metadata": {},
   "outputs": [
    {
     "data": {
      "text/plain": [
       "Text(0, 0.5, 'Deuda (x100k MXN)')"
      ]
     },
     "execution_count": 22,
     "metadata": {},
     "output_type": "execute_result"
    },
    {
     "data": {
      "image/png": "[encoded data removed]",
      "text/plain": [
       "<Figure size 432x288 with 1 Axes>"
      ]
     },
     "metadata": {
      "needs_background": "light"
     },
     "output_type": "display_data"
    }
   ],
   "source": [
    "# Datos\n",
    "plt.scatter(data[\"income\"], data[\"debt\"], c=\"gray\", alpha=0.6)\n",
    "\n",
    "# Gaussiana 1\n",
    "x = np.linspace(0, 10, 100)\n",
    "y = np.linspace(0, 8, 100)\n",
    "x, y = np.meshgrid(x, y)\n",
    "z = X1.pdf(np.dstack([x, y]))\n",
    "plt.contour(x, y, z)\n",
    "\n",
    "# Gaussiana 2\n",
    "x = np.linspace(0, 10, 100)\n",
    "y = np.linspace(0, 8, 100)\n",
    "x, y = np.meshgrid(x, y)\n",
    "z = X2.pdf(np.dstack([x, y]))\n",
    "plt.contour(x, y, z)\n",
    "\n",
    "# Gaussiana 3\n",
    "x = np.linspace(0, 10, 100)\n",
    "y = np.linspace(0, 8, 100)\n",
    "x, y = np.meshgrid(x, y)\n",
    "z = X3.pdf(np.dstack([x, y]))\n",
    "plt.contour(x, y, z)\n",
    "\n",
    "plt.xlabel(\"Ingresos mensuales (x100k MXN)\")\n",
    "plt.ylabel(\"Deuda (x100k MXN)\")"
   ]
  },
  {
   "cell_type": "code",
   "execution_count": 24,
   "metadata": {},
   "outputs": [
    {
     "data": {
      "text/plain": [
       "array([[6.58761051e-08, 4.73828687e-03, 9.95261647e-01],\n",
       "       [1.32853148e-31, 9.98888194e-01, 1.11180598e-03],\n",
       "       [9.95533631e-01, 3.34201449e-07, 4.46603516e-03],\n",
       "       ...,\n",
       "       [8.22140999e-07, 9.71946584e-02, 9.02804519e-01],\n",
       "       [4.53597857e-01, 7.37551509e-06, 5.46394768e-01],\n",
       "       [5.89671929e-15, 1.31922970e-03, 9.98680770e-01]])"
      ]
     },
     "execution_count": 24,
     "metadata": {},
     "output_type": "execute_result"
    }
   ],
   "source": [
    "gmm.predict_proba(data[[\"income\", \"debt\"]])"
   ]
  },
  {
   "cell_type": "code",
   "execution_count": 27,
   "metadata": {},
   "outputs": [
    {
     "data": {
      "text/plain": [
       "Text(0, 0.5, 'Deuda (x100k MXN)')"
      ]
     },
     "execution_count": 27,
     "metadata": {},
     "output_type": "execute_result"
    },
    {
     "data": {
      "image/png": "[encoded data removed]",
      "text/plain": [
       "<Figure size 432x288 with 1 Axes>"
      ]
     },
     "metadata": {
      "needs_background": "light"
     },
     "output_type": "display_data"
    }
   ],
   "source": [
    "# Por colores\n",
    "plt.scatter(\n",
    "    data[\"income\"],\n",
    "    data[\"debt\"],\n",
    "    c=gmm.predict_proba(data[[\"income\", \"debt\"]])\n",
    ")\n",
    "plt.xlabel(\"Ingresos mensuales (x100k MXN)\")\n",
    "plt.ylabel(\"Deuda (x100k MXN)\")"
   ]
  },
  {
   "cell_type": "markdown",
   "metadata": {},
   "source": [
    "Una de las razones principales para considerar clustering probabilístico era la elección del número de clusters:"
   ]
  },
  {
   "cell_type": "markdown",
   "metadata": {},
   "source": [
    "$$\n",
    "p(x | \\theta) = \\sum_{c=1}^{k} \\pi_c \\mathcal{N}(x | \\mu_c, \\Sigma_c).\n",
    "$$"
   ]
  },
  {
   "cell_type": "code",
   "execution_count": 28,
   "metadata": {},
   "outputs": [],
   "source": [
    "def log_likelihood_gmm(X, mu, sigma, pi):\n",
    "    \"\"\"\n",
    "    Log-likelihood of the data wrt Gaussian Mixture Model.\n",
    "    :param data: Data.\n",
    "    :param mu: Means of the components of the GMM.\n",
    "    :param sigma: Covariances of the components of the GMM.\n",
    "    :param pi: Weights of the components of the GMM.\n",
    "    :return: Log-likelihood of the data wrt GMM.\n",
    "    \"\"\"\n",
    "    # Number of clusters\n",
    "    k = mu.shape[0]\n",
    "    # Number of points\n",
    "    N = X.shape[0]\n",
    "    \n",
    "    # Individual likelihood of each point to each normal\n",
    "    ind_likelihood = np.zeros((N, k))\n",
    "    for j in range(k):\n",
    "        ind_likelihood[:, j] = multivariate_normal.pdf(X, mean=mu[j, :], cov=sigma[j, :, :])\n",
    "    \n",
    "    # Log likelihood\n",
    "    log_likelihood = np.log(ind_likelihood.dot(pi)).mean()\n",
    "        \n",
    "    return log_likelihood"
   ]
  },
  {
   "cell_type": "code",
   "execution_count": 34,
   "metadata": {},
   "outputs": [],
   "source": [
    "X_train, X_test = train_test_split(data[[\"income\", \"debt\"]], test_size=0.2)\n",
    "\n",
    "log_likelihood_train = []\n",
    "log_likelihood_test = []\n",
    "for k in range(2, 11):\n",
    "    # Instanciamos el algoritmo\n",
    "    gmm = GaussianMixture(n_components=k)\n",
    "    \n",
    "    # Entrenamos\n",
    "    gmm.fit(X=X_train)\n",
    "    pi = gmm.weights_\n",
    "    mu = gmm.means_\n",
    "    sigma = gmm.covariances_\n",
    "    \n",
    "    # Métrica con datos de entrenamiento\n",
    "    log_likelihood_train.append(log_likelihood_gmm(X_train, mu, sigma, pi))\n",
    "    \n",
    "    # Métrica con datos de prueba\n",
    "    log_likelihood_test.append(log_likelihood_gmm(X_test, mu, sigma, pi))"
   ]
  },
  {
   "cell_type": "code",
   "execution_count": 35,
   "metadata": {},
   "outputs": [
    {
     "data": {
      "text/plain": [
       "Text(0, 0.5, 'Log-verosimilitud')"
      ]
     },
     "execution_count": 35,
     "metadata": {},
     "output_type": "execute_result"
    },
    {
     "data": {
      "image/png": "[encoded data removed]",
      "text/plain": [
       "<Figure size 432x288 with 1 Axes>"
      ]
     },
     "metadata": {
      "needs_background": "light"
     },
     "output_type": "display_data"
    }
   ],
   "source": [
    "plt.plot(range(2, 11), log_likelihood_train, label=\"train\")\n",
    "plt.plot(range(2, 11), log_likelihood_test, label=\"test\")\n",
    "plt.axvline(x=3, ls=\"--\", color=\"k\")\n",
    "plt.legend()\n",
    "plt.xlabel(\"Número de componentes\")\n",
    "plt.ylabel(\"Log-verosimilitud\")"
   ]
  },
  {
   "cell_type": "markdown",
   "metadata": {},
   "source": [
    "De esta manera, de acuerdo a la log-verosimilitud sobre el conjunto de pruebas, el número de componentes óptimo es:"
   ]
  },
  {
   "cell_type": "code",
   "execution_count": 36,
   "metadata": {},
   "outputs": [
    {
     "data": {
      "text/plain": [
       "5"
      ]
     },
     "execution_count": 36,
     "metadata": {},
     "output_type": "execute_result"
    }
   ],
   "source": [
    "# Número de componentes óptimo\n",
    "range(2, 11)[np.argmax(log_likelihood_test)]"
   ]
  },
  {
   "cell_type": "markdown",
   "metadata": {},
   "source": [
    "## ¡No hay overfitting!"
   ]
  },
  {
   "cell_type": "markdown",
   "metadata": {},
   "source": [
    "<script>\n",
    "  $(document).ready(function(){\n",
    "    $('div.prompt').hide();\n",
    "    $('div.back-to-top').hide();\n",
    "    $('nav#menubar').hide();\n",
    "    $('.breadcrumb').hide();\n",
    "    $('.hidden-print').hide();\n",
    "  });\n",
    "</script>\n",
    "\n",
    "<footer id=\"attribution\" style=\"float:right; color:#808080; background:#fff;\">\n",
    "Created with Jupyter by Esteban Jiménez Rodríguez.\n",
    "</footer>"
   ]
  }
 ],
 "metadata": {
  "kernelspec": {
   "display_name": "Python 3",
   "language": "python",
   "name": "python3"
  },
  "language_info": {
   "codemirror_mode": {
    "name": "ipython",
    "version": 3
   },
   "file_extension": ".py",
   "mimetype": "text/x-python",
   "name": "python",
   "nbconvert_exporter": "python",
   "pygments_lexer": "ipython3",
   "version": "3.7.6"
  }
 },
 "nbformat": 4,
 "nbformat_minor": 4
}
