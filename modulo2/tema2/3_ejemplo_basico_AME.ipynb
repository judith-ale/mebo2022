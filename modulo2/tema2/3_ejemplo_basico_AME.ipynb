{
 "cells": [
  {
   "cell_type": "markdown",
   "metadata": {},
   "source": [
    "# Ejemplo Básico del Algoritmo de Maximización de la Esperanza"
   ]
  },
  {
   "cell_type": "markdown",
   "metadata": {},
   "source": [
    "<img style=\"float: right; margin: 0px 0px 15px 15px;\" src=\"https://upload.wikimedia.org/wikipedia/commons/3/3d/EM_Process.jpg\" width=\"500px\" height=\"300px\" />\n",
    "\n",
    "\n",
    "> En el notebook anterior derivamos todas las ecuaciones del algoritmo de maximización de la esperanza. Sin duda, este proceso requirió de bastantes matemáticas y concentración, pero lo logramos. Ya que tenemos las ecuaciones, comencemos a utilizarlas con un ejemplo básico.\n",
    "\n",
    "> **Objetivos:**\n",
    "> - Aplicar el algoritmo de maximización de la esperanza a un ejemplo sencillo.\n",
    "\n",
    "> **Referencias:**\n",
    "> - Bayesian Methods for Machine Learning course, HSE University, Coursera."
   ]
  },
  {
   "cell_type": "markdown",
   "metadata": {},
   "source": [
    "## 1. Enunciado: Mezcla discreta\n",
    "\n",
    "Supongamos que tenemos datos correspondientes al siguiente histograma:"
   ]
  },
  {
   "cell_type": "code",
   "execution_count": 1,
   "metadata": {},
   "outputs": [],
   "source": [
    "# Importamos matplotlib.pyplot\n",
    "from matplotlib import pyplot as plt\n",
    "# Importamos scipy.stats\n",
    "from scipy import stats\n",
    "# Importamos numpy\n",
    "import numpy as np"
   ]
  },
  {
   "cell_type": "code",
   "execution_count": 2,
   "metadata": {},
   "outputs": [
    {
     "data": {
      "text/plain": [
       "Text(0, 0.5, 'Freq. rel.')"
      ]
     },
     "execution_count": 2,
     "metadata": {},
     "output_type": "execute_result"
    },
    {
     "data": {
      "image/png": "[encoded data removed]",
      "text/plain": [
       "<Figure size 432x288 with 1 Axes>"
      ]
     },
     "metadata": {
      "needs_background": "light"
     },
     "output_type": "display_data"
    }
   ],
   "source": [
    "# Graficamos\n",
    "plt.figure(figsize=(6, 4))\n",
    "plt.bar([0, 1, 2], [0.35, 0.25, 0.4], color='k')\n",
    "plt.xlabel('$x$')\n",
    "plt.ylabel('Freq. rel.')"
   ]
  },
  {
   "cell_type": "code",
   "execution_count": 18,
   "metadata": {},
   "outputs": [],
   "source": [
    "# Variable aleatoria \"real\"\n",
    "X = stats.rv_discrete(\n",
    "    values=(\n",
    "        [0, 1, 2],  # x_k\n",
    "        [0.35, 0.25, 0.4]  # p_k\n",
    "    )\n",
    ")"
   ]
  },
  {
   "cell_type": "markdown",
   "metadata": {},
   "source": [
    "Queremos ajustar una distribución de probabilidad a estos datos, pero **suponiendo que estos datos vienen de una mezcla de distribuciones:**\n",
    "\n",
    "$$\n",
    "p(x_i) = \\alpha p_1(x_i) + (1 - \\alpha) p_2(x_i),\n",
    "$$\n",
    "\n",
    "donde\n",
    "\n",
    "| Distribution | $x=0$    | $x=1$       | $x=2$        |\n",
    "| ------------ | -------- | ----------- | -----------  |\n",
    "| $p_1(x)$     | $\\beta$  | $1 - \\beta$ | $0$          |\n",
    "| $p_2(x)$     | $0$      | $\\delta$    | $1 - \\delta$ |"
   ]
  },
  {
   "cell_type": "markdown",
   "metadata": {},
   "source": [
    "Entonces, una suposición plausible es que tenemos un modelo con variable latente de la siguiente manera:\n",
    "\n",
    "![latent](figures/latent_model.png)\n",
    "\n",
    "donde $t_i$ es una variable aleatoria que puede tomar dos valores $1, 2$, y básicamente nos dice a qué distribución pertenece el dato $x_i$.\n",
    "\n",
    "De esta manera, la distribución previa sobre $t_i$ es:\n",
    "\n",
    "$$\n",
    "p(t_i) = \\left\\lbrace \\begin{array}{ccc}\n",
    "                      \\alpha     & \\text{si} & t_i = 1 \\\\\n",
    "                      1 - \\alpha & \\text{si} & t_i = 2\n",
    "                      \\end{array}\\right.\n",
    "$$"
   ]
  },
  {
   "cell_type": "markdown",
   "metadata": {},
   "source": [
    "## 2. Algoritmo de maximización de la esperanza"
   ]
  },
  {
   "cell_type": "markdown",
   "metadata": {},
   "source": [
    "Para inicializar nuestro algoritmo de maximización de la esperanza definimos:\n",
    "\n",
    "$$\n",
    "\\alpha^0 = \\beta^0 = \\delta^0 = 0.5\n",
    "$$"
   ]
  },
  {
   "cell_type": "markdown",
   "metadata": {},
   "source": [
    "### 1. E-step\n",
    "\n",
    "Recordamos que en este paso, queremos encontrar la distribución posterior:\n",
    "\n",
    "$$\n",
    "q(t_i = c) = p(t_i=c | x_i)\n",
    "$$"
   ]
  },
  {
   "cell_type": "markdown",
   "metadata": {},
   "source": [
    "¿A qué es igual $p(t_i | x_i)$? Usando Bayes (recordar que: $p(x_i | t_i=c) = p_c(x_i)$):\n",
    "\n",
    "\\begin{align}\n",
    "p(t_i | x_i) & = \\frac{p(x_i | t_i) p(t_i)}{p(x_i)} \\\\\n",
    "             & = \\frac{p(x_i | t_i) p(t_i)}{p(x_i | t_i=1)p(t_i=1) + p(x_i | t_i=2)p(t_i=2)} \\\\\n",
    "             & = \\frac{p(x_i | t_i) p(t_i)}{\\alpha p_1(x_i)) + (1 - \\alpha)p_2(x_i)}.\n",
    "\\end{align}\n",
    "\n",
    "Resumamos lo anterior en una tabla:\n",
    "\n",
    "| $x_i$ \\ $t_i$ | $1$                                                          | $2$                                                                  |\n",
    "| ------------- | ------------------------------------------------------------ | -------------------------------------------------------------------- |\n",
    "| $0$           | $\\frac{\\beta\\alpha}{\\alpha\\beta + (1-\\alpha)0} = 1$          | $\\frac{0(1-\\alpha)}{\\alpha\\beta + (1-\\alpha)0}=0$                    |\n",
    "| $1$           | $\\frac{(1-\\beta)\\alpha}{\\alpha(1-\\beta) + (1-\\alpha)\\delta}$ | $\\frac{\\delta(1-\\alpha)}{\\alpha(1-\\beta) + (1-\\alpha)\\delta}$        |\n",
    "| $2$           | $\\frac{0 \\alpha}{\\alpha 0 + (1-\\alpha)(1 - \\delta)} = 0$     | $\\frac{(1-\\delta)(1-\\alpha)}{\\alpha 0 + (1-\\alpha)(1 - \\delta)} = 1$ |"
   ]
  },
  {
   "cell_type": "markdown",
   "metadata": {},
   "source": [
    "En particular, para los parámetros iniciales $\\alpha^0 = \\beta^0 = \\delta^0 = 0.5$, tenemos que:\n",
    "\n",
    "$$\n",
    "\\frac{(1-\\beta^0)\\alpha^0}{\\alpha^0(1-\\beta^0) + (1-\\alpha^0)\\delta^0} = \\frac{0.5 \\times 0.5}{0.5 \\times 0.5 + 0.5 \\times 0.5} = 0.5,\n",
    "$$\n",
    "\n",
    "y\n",
    "\n",
    "$$\n",
    "\\frac{\\delta^0(1-\\alpha^0)}{\\alpha^0(1-\\beta^0) + (1-\\alpha^0)\\delta^0} = \\frac{0.5 \\times 0.5}{0.5 \\times 0.5 + 0.5 \\times 0.5} = 0.5.\n",
    "$$\n",
    "\n",
    "En resumen:\n",
    "\n",
    "$$\n",
    "q^1(t_i = 1) = p(t_i=1 | x_i) = \\left \\lbrace \\begin{array}{ccc}\n",
    "                                              1   & \\text{si} & x_i=0 \\\\\n",
    "                                              0.5 & \\text{si} & x_i=1 \\\\\n",
    "                                              0   & \\text{si} & x_i=2\n",
    "                                              \\end{array}\\right .\n",
    "$$\n",
    "\n",
    "y $q^1(t_i = 2) = 1 - q^1(t_i = 1)$."
   ]
  },
  {
   "cell_type": "markdown",
   "metadata": {},
   "source": [
    "### 2. M-step\n",
    "\n",
    "Ahora, queremos maximizar:\n",
    "\n",
    "\\begin{align}\n",
    "\\max_{\\alpha, \\beta, \\delta} \\sum_{i=1}^{N} \\mathbb{E}_{q^{1}(t_i)} \\left[\\log p(x_i, t_i)\\right]\n",
    "& = \\max_{\\alpha, \\beta, \\delta} \\sum_{i=1}^{N} \\mathbb{E}_{q^{1}(t_i)} \\left[\\log p(x_i | t_i) p(t_i)\\right] \\\\\n",
    "& = \\max_{\\alpha, \\beta, \\delta} \\sum_{i=1}^{N} \\left[q^1(t_i = 1) \\log p(x_i | t_i=1) p(t_i = 1) + q^1(t_i = 2) \\log p(x_i | t_i=2) p(t_i = 2)\\right] \\\\\n",
    "& = \\max_{\\alpha, \\beta, \\delta} \\sum_{i=1}^{N} \\left[q^1(t_i = 1) \\log p_1(x_i) \\alpha + q^1(t_i = 2) \\log p_2(x_i) (1 - \\alpha)\\right]\n",
    "\\end{align}"
   ]
  },
  {
   "cell_type": "markdown",
   "metadata": {},
   "source": [
    "Notemos que para este punto, la expresión de arriba dependerá de:\n",
    "\n",
    "- $N_0$: cantidad de datos que tenemos $x=0$,\n",
    "- $N_1$: cantidad de datos que tenemos $x=1$,\n",
    "- $N_2$: cantidad de datos que tenemos $x=2$.\n",
    "\n",
    "De esta manera:\n",
    "\n",
    "\\begin{align}\n",
    "\\sum_{i=1}^{N}\\mathbb{E}_{q^{1}(t_i)} \\left[\\log p(x_i, t_i)\\right]\n",
    "& = \\sum_{i=1}^{N} \\left[q^1(t_i = 1) \\log p_1(x_i) \\alpha + q^1(t_i = 2) \\log p_2(x_i) (1 - \\alpha)\\right] \\\\\n",
    "& = N_0 \\left[\\log \\beta \\alpha\\right] + N_1 \\left[0.5 \\log (1 - \\beta) \\alpha + 0.5 \\log \\delta (1 - \\alpha)\\right] + N_2 \\left[\\log (1 - \\delta) (1 - \\alpha)\\right]\n",
    "\\end{align}"
   ]
  },
  {
   "cell_type": "markdown",
   "metadata": {},
   "source": [
    "Para maximizar lo anterior respecto a los parámetros $\\alpha, \\beta, \\delta$, derivamos respecto a cada parámetro e igualamos a cero:\n",
    "\n",
    "\n",
    "$$\n",
    "\\frac{\\partial}{\\partial \\alpha}\\sum_{i=1}^{N}\\mathbb{E}_{q^{1}(t_i)} \\left[\\log p(x_i, t_i)\\right] = N_0 \\frac{1}{\\alpha} + 0.5 N_1 \\frac{1}{\\alpha} - 0.5 N_1 \\frac{1}{1 - \\alpha} - N_2 \\frac{1}{1 - \\alpha} = 0 \\Rightarrow \\alpha^1 = \\frac{N_0 + 0.5 N_1}{N_0 + N_1 + N_2}.\n",
    "$$"
   ]
  },
  {
   "cell_type": "markdown",
   "metadata": {},
   "source": [
    "## Tarea\n",
    "\n",
    "Demostrar que:\n",
    "\n",
    "$$\n",
    "\\beta^1 = \\frac{2 N_0}{2 N_0 + N_1}, \\qquad \\text{ y } \\qquad \\delta^1 = \\frac{N_1}{N_1 + 2 N_2}\n",
    "$$"
   ]
  },
  {
   "cell_type": "markdown",
   "metadata": {},
   "source": [
    "## 3. Visualización"
   ]
  },
  {
   "cell_type": "markdown",
   "metadata": {},
   "source": [
    "Primero veamos en nuestra inicialización, cómo luce la aproximación:"
   ]
  },
  {
   "cell_type": "code",
   "execution_count": 5,
   "metadata": {},
   "outputs": [],
   "source": [
    "# Parámetros en la inicialización\n",
    "a0, b0, d0 = 0.5, 0.5, 0.5"
   ]
  },
  {
   "cell_type": "code",
   "execution_count": 25,
   "metadata": {},
   "outputs": [
    {
     "data": {
      "text/plain": [
       "array([0.25, 0.5 , 0.25])"
      ]
     },
     "execution_count": 25,
     "metadata": {},
     "output_type": "execute_result"
    }
   ],
   "source": [
    "# Aproximación de la distribución en la inicialización\n",
    "p10 = np.array([b0, 1 - b0, 0])\n",
    "p20 = np.array([0, d0, 1 - d0])\n",
    "p_approx0 = a0 * p10 + (1 - a0) * p20\n",
    "p_approx0"
   ]
  },
  {
   "cell_type": "code",
   "execution_count": 26,
   "metadata": {},
   "outputs": [
    {
     "data": {
      "text/plain": [
       "<matplotlib.legend.Legend at 0x7fdac5a00b90>"
      ]
     },
     "execution_count": 26,
     "metadata": {},
     "output_type": "execute_result"
    },
    {
     "data": {
      "image/png": "[encoded data removed]",
      "text/plain": [
       "<Figure size 432x288 with 1 Axes>"
      ]
     },
     "metadata": {
      "needs_background": "light"
     },
     "output_type": "display_data"
    }
   ],
   "source": [
    "# Graficamos\n",
    "plt.figure(figsize=(6, 4))\n",
    "plt.bar([0, 1, 2], [0.35, 0.25, 0.4], color='k', label=\"Dist. Real\")\n",
    "plt.bar([0, 1, 2], p_approx0, color='r', alpha=0.5, width=0.5, label=\"Dist. Aproximada 0\")\n",
    "plt.xlabel('$x$')\n",
    "plt.ylabel('Freq. rel.')\n",
    "plt.legend()"
   ]
  },
  {
   "cell_type": "markdown",
   "metadata": {},
   "source": [
    "Ahora, en nuestra **primera iteración**:"
   ]
  },
  {
   "cell_type": "code",
   "execution_count": 21,
   "metadata": {},
   "outputs": [
    {
     "data": {
      "text/plain": [
       "array([0, 0, 1, 1, 1, 1, 2, 0, 2, 1, 1, 1, 1, 2, 2, 2, 0, 2, 2, 2, 2, 1,\n",
       "       2, 2, 2, 0, 0, 0, 2, 2, 0, 0, 2, 0, 2, 0, 2, 0, 2, 1, 2, 2, 2, 0,\n",
       "       2, 1, 1, 2, 2, 0, 1, 2, 2, 2, 2, 0, 2, 0, 1, 0, 1, 1, 0, 0, 1, 0,\n",
       "       0, 2, 0, 2, 0, 2, 2, 0, 0, 2, 0, 1, 2, 2, 1, 0, 2, 0, 2, 0, 0, 0,\n",
       "       2, 2, 1, 1, 2, 2, 1, 0, 0, 0, 1, 2])"
      ]
     },
     "execution_count": 21,
     "metadata": {},
     "output_type": "execute_result"
    }
   ],
   "source": [
    "# Hacemos las cuentas\n",
    "data = X.rvs(size=100)\n",
    "data"
   ]
  },
  {
   "cell_type": "code",
   "execution_count": 22,
   "metadata": {},
   "outputs": [
    {
     "data": {
      "text/plain": [
       "(34, 23, 43)"
      ]
     },
     "execution_count": 22,
     "metadata": {},
     "output_type": "execute_result"
    }
   ],
   "source": [
    "N0 = (data == 0).sum()\n",
    "N1 = (data == 1).sum()\n",
    "N2 = (data == 2).sum()\n",
    "N0, N1, N2"
   ]
  },
  {
   "cell_type": "code",
   "execution_count": 23,
   "metadata": {},
   "outputs": [
    {
     "data": {
      "text/plain": [
       "(0.455, 0.7472527472527473, 0.21100917431192662)"
      ]
     },
     "execution_count": 23,
     "metadata": {},
     "output_type": "execute_result"
    }
   ],
   "source": [
    "# Parámetros en la primera iteración\n",
    "a1 = (N0 + 0.5 * N1) / (N0 + N1 + N2)\n",
    "b1 = (2 * N0) / (2 * N0 + N1)\n",
    "d1 = N1 / (N1 + 2 * N2)\n",
    "a1, b1, d1"
   ]
  },
  {
   "cell_type": "code",
   "execution_count": 27,
   "metadata": {},
   "outputs": [
    {
     "data": {
      "text/plain": [
       "array([0.34, 0.23, 0.43])"
      ]
     },
     "execution_count": 27,
     "metadata": {},
     "output_type": "execute_result"
    }
   ],
   "source": [
    "# Aproximación de la distribución en la primera iteración\n",
    "p11 = np.array([b1, 1 - b1, 0])\n",
    "p21 = np.array([0, d1, 1 - d1])\n",
    "p_approx1 = a1 * p11 + (1 - a1) * p21\n",
    "p_approx1"
   ]
  },
  {
   "cell_type": "code",
   "execution_count": 29,
   "metadata": {},
   "outputs": [
    {
     "data": {
      "text/plain": [
       "<matplotlib.legend.Legend at 0x7fdac5af0610>"
      ]
     },
     "execution_count": 29,
     "metadata": {},
     "output_type": "execute_result"
    },
    {
     "data": {
      "image/png": "[encoded data removed]",
      "text/plain": [
       "<Figure size 432x288 with 1 Axes>"
      ]
     },
     "metadata": {
      "needs_background": "light"
     },
     "output_type": "display_data"
    }
   ],
   "source": [
    "# Graficamos\n",
    "plt.figure(figsize=(6, 4))\n",
    "plt.bar([0, 1, 2], [0.35, 0.25, 0.4], color='k', label=\"Dist. Real\")\n",
    "plt.bar([0, 1, 2], p_approx1, color='r', alpha=0.5, width=0.5, label=\"Dist. Aproximada 1\")\n",
    "plt.xlabel('$x$')\n",
    "plt.ylabel('Freq. rel.')\n",
    "plt.legend()"
   ]
  },
  {
   "cell_type": "markdown",
   "metadata": {},
   "source": [
    "¡Solo en la primera iteración ya tenemos una aproximación bastante aceptable!"
   ]
  },
  {
   "cell_type": "markdown",
   "metadata": {},
   "source": [
    "# Anuncios parroquiales\n",
    "\n",
    "## 1. Quiz del tema 2 - AME, el martes 25 de Octubre."
   ]
  },
  {
   "cell_type": "markdown",
   "metadata": {},
   "source": [
    "<script>\n",
    "  $(document).ready(function(){\n",
    "    $('div.prompt').hide();\n",
    "    $('div.back-to-top').hide();\n",
    "    $('nav#menubar').hide();\n",
    "    $('.breadcrumb').hide();\n",
    "    $('.hidden-print').hide();\n",
    "  });\n",
    "</script>\n",
    "\n",
    "<footer id=\"attribution\" style=\"float:right; color:#808080; background:#fff;\">\n",
    "Created with Jupyter by Esteban Jiménez Rodríguez.\n",
    "</footer>"
   ]
  }
 ],
 "metadata": {
  "kernelspec": {
   "display_name": "Python 3",
   "language": "python",
   "name": "python3"
  },
  "language_info": {
   "codemirror_mode": {
    "name": "ipython",
    "version": 3
   },
   "file_extension": ".py",
   "mimetype": "text/x-python",
   "name": "python",
   "nbconvert_exporter": "python",
   "pygments_lexer": "ipython3",
   "version": "3.7.6"
  }
 },
 "nbformat": 4,
 "nbformat_minor": 4
}
