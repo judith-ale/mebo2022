{
 "cells": [
  {
   "cell_type": "markdown",
   "metadata": {},
   "source": [
    "# Tarea 3. Estimación MAP y Previa conjugada\n",
    "\n",
    "<img style=\"float: right; margin: 0px 0px 15px 15px;\" src=\"https://storage.needpix.com/rsynced_images/bayesian-2889576_1280.png\" width=\"200px\" height=\"180px\" />\n",
    "\n",
    "En esta tercera tarea, reforzaremos el cálculo de estimadores MAP y de distribuciones posteriores usando previas conjugadas.\n",
    "\n",
    "Por favor, intenta ser lo más explícit@ posible, y en lo posible, apóyate de la escritura matemática con $\\LaTeX$.\n",
    "\n",
    "Recuerda además que ante cualquier duda, me puedes contactar al correo esjimenezro@iteso.mx.\n",
    "\n",
    "<p style=\"text-align:right;\"> Imagen recuperada de: https://storage.needpix.com/rsynced_images/bayesian-2889576_1280.png.</p>\n",
    "\n",
    "___"
   ]
  },
  {
   "cell_type": "markdown",
   "metadata": {},
   "source": [
    "## 1. MAP\n",
    "\n",
    "Referencia: https://www.probabilitycourse.com/chapter9/9_1_2_MAP_estimation.php\n",
    "\n",
    "Sea $X$ una V.A. continua con la siguiente densidad:\n",
    "\n",
    "\\begin{align}\n",
    "\\nonumber p(x) = \\left\\{\n",
    "\\begin{array}{l l}\n",
    "2x & \\quad \\textrm{if }0 \\leq x \\leq 1 \\\\\n",
    "& \\quad \\\\\n",
    "0 & \\quad \\text{otherwise}\n",
    "\\end{array} \\right.\n",
    "\\end{align}"
   ]
  },
  {
   "cell_type": "markdown",
   "metadata": {},
   "source": [
    "Adicionalmente, suponga que \n",
    "\n",
    "\\begin{align}\n",
    "p(y | x) = Geometric(y | x) = (1 - x)^{y - 1} x.\n",
    "\\end{align}"
   ]
  },
  {
   "cell_type": "markdown",
   "metadata": {},
   "source": [
    "Enceuentre $\\hat{x}_{MAP}$ dado $Y=3$."
   ]
  },
  {
   "cell_type": "markdown",
   "metadata": {},
   "source": []
  },
  {
   "cell_type": "markdown",
   "metadata": {},
   "source": []
  },
  {
   "cell_type": "markdown",
   "metadata": {},
   "source": []
  },
  {
   "cell_type": "markdown",
   "metadata": {},
   "source": [
    "## 2. Previas conjugadas\n",
    "\n",
    "Supongamos que la función de verosimilitud es de Poisson:\n",
    "\n",
    "$$\n",
    "p(x | \\theta) = Pois(x |\\theta) = \\frac{\\theta^x e^{-\\theta}}{x!} \n",
    "$$\n",
    "\n",
    "donde $x \\in \\mathbb{N}$. Ahora, si elegimos la distribución previa sobre el parámetro $\\theta$ como una distribución Gamma:\n",
    "\n",
    "$$\n",
    "p(\\theta) = \\Gamma(\\theta | a, b) = \\frac{b^a}{\\Gamma(a)} \\theta^{a - 1} \\exp\\{-b \\theta\\}\n",
    "$$\n",
    "\n",
    "Encontrar completamente la densidad de probabilidad posterior\n",
    "\n",
    "$$\n",
    "p(\\theta | x) = \\frac{p(x | \\theta) p(\\theta)}{p(x)}.\n",
    "$$"
   ]
  },
  {
   "cell_type": "markdown",
   "metadata": {},
   "source": []
  },
  {
   "cell_type": "markdown",
   "metadata": {},
   "source": []
  },
  {
   "cell_type": "markdown",
   "metadata": {},
   "source": []
  },
  {
   "cell_type": "markdown",
   "metadata": {},
   "source": []
  },
  {
   "cell_type": "markdown",
   "metadata": {},
   "source": []
  },
  {
   "cell_type": "markdown",
   "metadata": {},
   "source": [
    "<script>\n",
    "  $(document).ready(function(){\n",
    "    $('div.prompt').hide();\n",
    "    $('div.back-to-top').hide();\n",
    "    $('nav#menubar').hide();\n",
    "    $('.breadcrumb').hide();\n",
    "    $('.hidden-print').hide();\n",
    "  });\n",
    "</script>\n",
    "\n",
    "<footer id=\"attribution\" style=\"float:right; color:#808080; background:#fff;\">\n",
    "Created with Jupyter by Esteban Jiménez Rodríguez.\n",
    "</footer>"
   ]
  }
 ],
 "metadata": {
  "kernelspec": {
   "display_name": "Python 3",
   "language": "python",
   "name": "python3"
  },
  "language_info": {
   "codemirror_mode": {
    "name": "ipython",
    "version": 3
   },
   "file_extension": ".py",
   "mimetype": "text/x-python",
   "name": "python",
   "nbconvert_exporter": "python",
   "pygments_lexer": "ipython3",
   "version": "3.7.6"
  }
 },
 "nbformat": 4,
 "nbformat_minor": 4
}
